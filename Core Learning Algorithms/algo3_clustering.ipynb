{
 "cells": [
  {
   "cell_type": "markdown",
   "id": "86ffc22d-0e04-4ea9-9f62-aa5864d11b85",
   "metadata": {},
   "source": [
    "# Clustering"
   ]
  },
  {
   "cell_type": "markdown",
   "id": "4b5dd9c7-4c4f-4f96-b7f6-7b7f056e4749",
   "metadata": {},
   "source": [
    "- identify k points(centroids) for k clusters(use algorithms, brain etc)\n",
    "- assign each data point to a centroid based on distance( euclidian, manhatten)\n",
    "- after assigning all data points, find k centroids according to k new clusturs\n",
    "- repeat process of assigning, and finding k centroids\n",
    "- Finalize when no points changes which centroid it belongs to"
   ]
  },
  {
   "cell_type": "markdown",
   "id": "4fd3f4c6-8a7f-4f2a-b9ca-fb72fddd1c27",
   "metadata": {},
   "source": [
    "# Hidden Markov Models"
   ]
  },
  {
   "cell_type": "markdown",
   "id": "4da2cb5f-55a4-45cc-9abb-40fa24df97f4",
   "metadata": {},
   "source": [
    "Finite set of states, each of which is associated with a (generally multidimentionsal) probablility distribution. <br>\n",
    "Transitions amaong the states are governed by a set of probabilities called transitino probabilities.\n",
    "\n",
    "A hidden markov model works with probabilities to predict future events or states.\n",
    "\n",
    "To create a hiddden markov model we need:\n",
    "\n",
    "- States\n",
    "- Observation Distribution\n",
    "- Transition Distribution"
   ]
  },
  {
   "cell_type": "markdown",
   "id": "e33a0b02-15d4-4fb9-a69c-dbe722ee45d2",
   "metadata": {},
   "source": [
    "## Weather Model"
   ]
  },
  {
   "cell_type": "code",
   "execution_count": 1,
   "id": "e93fe90a-e641-4c7f-88a7-8c4155988cbe",
   "metadata": {},
   "outputs": [],
   "source": [
    "import tensorflow_probability as tfp\n",
    "import tensorflow as tf"
   ]
  },
  {
   "cell_type": "markdown",
   "id": "df957b21-60dc-44e9-a6b6-2ac64b21f0e9",
   "metadata": {},
   "source": [
    "We will model a simple weather system and try to predict the temperature on each day given the following infomation.\n",
    "\n",
    "- Cold days are encoded by 0 and Hot days are encoded by a 1.\n",
    "- The first day in our sequence has 80% chance of being cold.\n",
    "- A cold day has 30% chance of being followed by a hot day.\n",
    "- A hot day has 20% chance of being followed by a cold day.\n",
    "- On each day the temperature is normally distributed with mean and standard deviation 0 or 5 on a cold day <br>\n",
    "  and mean and standard deviation 15 and 10 on a hot day"
   ]
  },
  {
   "cell_type": "code",
   "execution_count": 2,
   "id": "5294ccf2-5382-4ca2-bb60-03cc39227ac4",
   "metadata": {},
   "outputs": [
    {
     "data": {
      "text/plain": [
       "'2.5.0'"
      ]
     },
     "execution_count": 2,
     "metadata": {},
     "output_type": "execute_result"
    }
   ],
   "source": [
    "tf.__version__"
   ]
  },
  {
   "cell_type": "code",
   "execution_count": 4,
   "id": "6ec04a1c-93a0-4b7a-b092-6bcd47f500ec",
   "metadata": {},
   "outputs": [],
   "source": [
    "tfd = tfp.distributions\n",
    "\n",
    "initial_distribution = tfd.Categorical(probs=[0.8, 0.2])\n",
    "transition_distribution = tfd.Categorical(probs=[[0.7, 0.3], [0.2, 0.8]])\n",
    "\n",
    "observation_distribution = tfd.Normal(loc=[0., 15.], scale=[5., 10.])"
   ]
  },
  {
   "cell_type": "code",
   "execution_count": 5,
   "id": "ef04f393-a19c-4c46-822b-0f03272af69e",
   "metadata": {},
   "outputs": [],
   "source": [
    "model = tfd.HiddenMarkovModel( \\\n",
    "                             initial_distribution = initial_distribution, \\\n",
    "                             transition_distribution = transition_distribution, \\\n",
    "                             observation_distribution = observation_distribution, \\\n",
    "                             num_steps = 7)"
   ]
  },
  {
   "cell_type": "markdown",
   "id": "1c529f88-1154-4220-b975-cdd919d9e4eb",
   "metadata": {},
   "source": [
    "To get expected temperatures on each day we can do :"
   ]
  },
  {
   "cell_type": "code",
   "execution_count": 7,
   "id": "22927292-0fa7-4862-bafe-82bfe6c0ea75",
   "metadata": {},
   "outputs": [
    {
     "name": "stdout",
     "output_type": "stream",
     "text": [
      "[2.9999998 5.9999995 7.4999995 8.25      8.625     8.812501  8.90625  ]\n"
     ]
    }
   ],
   "source": [
    "print(mean.numpy())"
   ]
  },
  {
   "cell_type": "code",
   "execution_count": null,
   "id": "91fd7831-87cd-46e9-ae94-0549e42a7b55",
   "metadata": {},
   "outputs": [],
   "source": []
  }
 ],
 "metadata": {
  "kernelspec": {
   "display_name": "Python 3",
   "language": "python",
   "name": "python3"
  },
  "language_info": {
   "codemirror_mode": {
    "name": "ipython",
    "version": 3
   },
   "file_extension": ".py",
   "mimetype": "text/x-python",
   "name": "python",
   "nbconvert_exporter": "python",
   "pygments_lexer": "ipython3",
   "version": "3.8.8"
  }
 },
 "nbformat": 4,
 "nbformat_minor": 5
}
