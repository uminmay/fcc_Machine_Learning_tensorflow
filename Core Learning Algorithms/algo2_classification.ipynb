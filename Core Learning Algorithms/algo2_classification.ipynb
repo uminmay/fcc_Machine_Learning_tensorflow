{
 "cells": [
  {
   "cell_type": "markdown",
   "id": "6de49b20-163b-4c7e-b5fa-173965aa00f0",
   "metadata": {},
   "source": [
    "# Classification"
   ]
  },
  {
   "cell_type": "code",
   "execution_count": 1,
   "id": "7e6554b9-1e2a-46c5-a1df-0d5672da83e4",
   "metadata": {},
   "outputs": [],
   "source": [
    "import tensorflow as tf\n",
    "import pandas as pd"
   ]
  },
  {
   "cell_type": "code",
   "execution_count": 2,
   "id": "9ea94d48-3693-40bb-8a3a-6686bde82004",
   "metadata": {},
   "outputs": [
    {
     "data": {
      "text/plain": [
       "'2.3.0'"
      ]
     },
     "execution_count": 2,
     "metadata": {},
     "output_type": "execute_result"
    }
   ],
   "source": [
    "tf.__version__"
   ]
  },
  {
   "cell_type": "code",
   "execution_count": 3,
   "id": "2e6bd849-83c3-4a75-bc07-bc7c3b8e74e1",
   "metadata": {},
   "outputs": [],
   "source": [
    "from __future__ import absolute_import, division, print_function, unicode_literals"
   ]
  },
  {
   "cell_type": "markdown",
   "id": "efbb2322-5f1d-4d12-b6fe-e9fa29499b02",
   "metadata": {},
   "source": []
  },
  {
   "cell_type": "markdown",
   "id": "29cbd226-d006-4271-a593-91b8f3057d7c",
   "metadata": {},
   "source": [
    "## Dataset"
   ]
  },
  {
   "cell_type": "markdown",
   "id": "ad23b56a-cf35-4d6e-970e-9ca5b0f1d85f",
   "metadata": {},
   "source": [
    "separates flowers into 3 different species\n",
    "- Setosa\n",
    "- Versicolor\n",
    "- Virginica"
   ]
  },
  {
   "cell_type": "markdown",
   "id": "f6a6da6a-c462-41e5-bc87-e69c0dee8035",
   "metadata": {},
   "source": [
    "Information about flowers :\n",
    "- sepal length\n",
    "- sepal width\n",
    "- petal length\n",
    "- petal width"
   ]
  },
  {
   "cell_type": "code",
   "execution_count": 4,
   "id": "6661238c-d8e5-4a27-8be1-fa51acf5d334",
   "metadata": {},
   "outputs": [],
   "source": [
    "CSV_COL_NAMES = ['SepalLength', 'SepalWidth', 'PetalLength', 'PetalWidth','Species']\n",
    "SPECIES = ['Setosa', ' Versicolor', 'Virginica']"
   ]
  },
  {
   "cell_type": "code",
   "execution_count": 5,
   "id": "043891f8-115a-42a5-8f69-b797f4629850",
   "metadata": {},
   "outputs": [],
   "source": [
    "train_path = tf.keras.utils.get_file('iris_training.csv', 'https://storage.googleapis.com/download.tensorflow.org/data/iris_training.csv')\n",
    "test_path = tf.keras.utils.get_file('iris_test.csv', 'https://storage.googleapis.com/download.tensorflow.org/data/iris_test.csv')\n",
    "\n",
    "train = pd.read_csv(train_path, names=CSV_COL_NAMES, header=0)\n",
    "test = pd.read_csv(test_path, names=CSV_COL_NAMES, header=0)"
   ]
  },
  {
   "cell_type": "code",
   "execution_count": 6,
   "id": "91a3d7f9-35a2-4c86-a065-3ff6e5daf25a",
   "metadata": {},
   "outputs": [
    {
     "data": {
      "text/html": [
       "<div>\n",
       "<style scoped>\n",
       "    .dataframe tbody tr th:only-of-type {\n",
       "        vertical-align: middle;\n",
       "    }\n",
       "\n",
       "    .dataframe tbody tr th {\n",
       "        vertical-align: top;\n",
       "    }\n",
       "\n",
       "    .dataframe thead th {\n",
       "        text-align: right;\n",
       "    }\n",
       "</style>\n",
       "<table border=\"1\" class=\"dataframe\">\n",
       "  <thead>\n",
       "    <tr style=\"text-align: right;\">\n",
       "      <th></th>\n",
       "      <th>SepalLength</th>\n",
       "      <th>SepalWidth</th>\n",
       "      <th>PetalLength</th>\n",
       "      <th>PetalWidth</th>\n",
       "      <th>Species</th>\n",
       "    </tr>\n",
       "  </thead>\n",
       "  <tbody>\n",
       "    <tr>\n",
       "      <th>0</th>\n",
       "      <td>6.4</td>\n",
       "      <td>2.8</td>\n",
       "      <td>5.6</td>\n",
       "      <td>2.2</td>\n",
       "      <td>2</td>\n",
       "    </tr>\n",
       "    <tr>\n",
       "      <th>1</th>\n",
       "      <td>5.0</td>\n",
       "      <td>2.3</td>\n",
       "      <td>3.3</td>\n",
       "      <td>1.0</td>\n",
       "      <td>1</td>\n",
       "    </tr>\n",
       "    <tr>\n",
       "      <th>2</th>\n",
       "      <td>4.9</td>\n",
       "      <td>2.5</td>\n",
       "      <td>4.5</td>\n",
       "      <td>1.7</td>\n",
       "      <td>2</td>\n",
       "    </tr>\n",
       "    <tr>\n",
       "      <th>3</th>\n",
       "      <td>4.9</td>\n",
       "      <td>3.1</td>\n",
       "      <td>1.5</td>\n",
       "      <td>0.1</td>\n",
       "      <td>0</td>\n",
       "    </tr>\n",
       "    <tr>\n",
       "      <th>4</th>\n",
       "      <td>5.7</td>\n",
       "      <td>3.8</td>\n",
       "      <td>1.7</td>\n",
       "      <td>0.3</td>\n",
       "      <td>0</td>\n",
       "    </tr>\n",
       "  </tbody>\n",
       "</table>\n",
       "</div>"
      ],
      "text/plain": [
       "   SepalLength  SepalWidth  PetalLength  PetalWidth  Species\n",
       "0          6.4         2.8          5.6         2.2        2\n",
       "1          5.0         2.3          3.3         1.0        1\n",
       "2          4.9         2.5          4.5         1.7        2\n",
       "3          4.9         3.1          1.5         0.1        0\n",
       "4          5.7         3.8          1.7         0.3        0"
      ]
     },
     "execution_count": 6,
     "metadata": {},
     "output_type": "execute_result"
    }
   ],
   "source": [
    "train.head()"
   ]
  },
  {
   "cell_type": "code",
   "execution_count": 7,
   "id": "45e35338-c44e-4ef5-95f5-1e2399061fca",
   "metadata": {},
   "outputs": [
    {
     "data": {
      "text/html": [
       "<div>\n",
       "<style scoped>\n",
       "    .dataframe tbody tr th:only-of-type {\n",
       "        vertical-align: middle;\n",
       "    }\n",
       "\n",
       "    .dataframe tbody tr th {\n",
       "        vertical-align: top;\n",
       "    }\n",
       "\n",
       "    .dataframe thead th {\n",
       "        text-align: right;\n",
       "    }\n",
       "</style>\n",
       "<table border=\"1\" class=\"dataframe\">\n",
       "  <thead>\n",
       "    <tr style=\"text-align: right;\">\n",
       "      <th></th>\n",
       "      <th>SepalLength</th>\n",
       "      <th>SepalWidth</th>\n",
       "      <th>PetalLength</th>\n",
       "      <th>PetalWidth</th>\n",
       "      <th>Species</th>\n",
       "    </tr>\n",
       "  </thead>\n",
       "  <tbody>\n",
       "    <tr>\n",
       "      <th>0</th>\n",
       "      <td>5.9</td>\n",
       "      <td>3.0</td>\n",
       "      <td>4.2</td>\n",
       "      <td>1.5</td>\n",
       "      <td>1</td>\n",
       "    </tr>\n",
       "    <tr>\n",
       "      <th>1</th>\n",
       "      <td>6.9</td>\n",
       "      <td>3.1</td>\n",
       "      <td>5.4</td>\n",
       "      <td>2.1</td>\n",
       "      <td>2</td>\n",
       "    </tr>\n",
       "    <tr>\n",
       "      <th>2</th>\n",
       "      <td>5.1</td>\n",
       "      <td>3.3</td>\n",
       "      <td>1.7</td>\n",
       "      <td>0.5</td>\n",
       "      <td>0</td>\n",
       "    </tr>\n",
       "    <tr>\n",
       "      <th>3</th>\n",
       "      <td>6.0</td>\n",
       "      <td>3.4</td>\n",
       "      <td>4.5</td>\n",
       "      <td>1.6</td>\n",
       "      <td>1</td>\n",
       "    </tr>\n",
       "    <tr>\n",
       "      <th>4</th>\n",
       "      <td>5.5</td>\n",
       "      <td>2.5</td>\n",
       "      <td>4.0</td>\n",
       "      <td>1.3</td>\n",
       "      <td>1</td>\n",
       "    </tr>\n",
       "  </tbody>\n",
       "</table>\n",
       "</div>"
      ],
      "text/plain": [
       "   SepalLength  SepalWidth  PetalLength  PetalWidth  Species\n",
       "0          5.9         3.0          4.2         1.5        1\n",
       "1          6.9         3.1          5.4         2.1        2\n",
       "2          5.1         3.3          1.7         0.5        0\n",
       "3          6.0         3.4          4.5         1.6        1\n",
       "4          5.5         2.5          4.0         1.3        1"
      ]
     },
     "execution_count": 7,
     "metadata": {},
     "output_type": "execute_result"
    }
   ],
   "source": [
    "test.head()"
   ]
  },
  {
   "cell_type": "code",
   "execution_count": 8,
   "id": "56b9e3eb-eef0-410c-aca6-ed1bd2be324a",
   "metadata": {},
   "outputs": [
    {
     "data": {
      "text/html": [
       "<div>\n",
       "<style scoped>\n",
       "    .dataframe tbody tr th:only-of-type {\n",
       "        vertical-align: middle;\n",
       "    }\n",
       "\n",
       "    .dataframe tbody tr th {\n",
       "        vertical-align: top;\n",
       "    }\n",
       "\n",
       "    .dataframe thead th {\n",
       "        text-align: right;\n",
       "    }\n",
       "</style>\n",
       "<table border=\"1\" class=\"dataframe\">\n",
       "  <thead>\n",
       "    <tr style=\"text-align: right;\">\n",
       "      <th></th>\n",
       "      <th>SepalLength</th>\n",
       "      <th>SepalWidth</th>\n",
       "      <th>PetalLength</th>\n",
       "      <th>PetalWidth</th>\n",
       "      <th>Species</th>\n",
       "    </tr>\n",
       "  </thead>\n",
       "  <tbody>\n",
       "    <tr>\n",
       "      <th>0</th>\n",
       "      <td>6.4</td>\n",
       "      <td>2.8</td>\n",
       "      <td>5.6</td>\n",
       "      <td>2.2</td>\n",
       "      <td>2</td>\n",
       "    </tr>\n",
       "    <tr>\n",
       "      <th>1</th>\n",
       "      <td>5.0</td>\n",
       "      <td>2.3</td>\n",
       "      <td>3.3</td>\n",
       "      <td>1.0</td>\n",
       "      <td>1</td>\n",
       "    </tr>\n",
       "    <tr>\n",
       "      <th>2</th>\n",
       "      <td>4.9</td>\n",
       "      <td>2.5</td>\n",
       "      <td>4.5</td>\n",
       "      <td>1.7</td>\n",
       "      <td>2</td>\n",
       "    </tr>\n",
       "    <tr>\n",
       "      <th>3</th>\n",
       "      <td>4.9</td>\n",
       "      <td>3.1</td>\n",
       "      <td>1.5</td>\n",
       "      <td>0.1</td>\n",
       "      <td>0</td>\n",
       "    </tr>\n",
       "    <tr>\n",
       "      <th>4</th>\n",
       "      <td>5.7</td>\n",
       "      <td>3.8</td>\n",
       "      <td>1.7</td>\n",
       "      <td>0.3</td>\n",
       "      <td>0</td>\n",
       "    </tr>\n",
       "  </tbody>\n",
       "</table>\n",
       "</div>"
      ],
      "text/plain": [
       "   SepalLength  SepalWidth  PetalLength  PetalWidth  Species\n",
       "0          6.4         2.8          5.6         2.2        2\n",
       "1          5.0         2.3          3.3         1.0        1\n",
       "2          4.9         2.5          4.5         1.7        2\n",
       "3          4.9         3.1          1.5         0.1        0\n",
       "4          5.7         3.8          1.7         0.3        0"
      ]
     },
     "execution_count": 8,
     "metadata": {},
     "output_type": "execute_result"
    }
   ],
   "source": [
    "train.head()"
   ]
  },
  {
   "cell_type": "code",
   "execution_count": 9,
   "id": "54024822-dec0-480b-8f65-455b74056b14",
   "metadata": {},
   "outputs": [
    {
     "data": {
      "text/html": [
       "<div>\n",
       "<style scoped>\n",
       "    .dataframe tbody tr th:only-of-type {\n",
       "        vertical-align: middle;\n",
       "    }\n",
       "\n",
       "    .dataframe tbody tr th {\n",
       "        vertical-align: top;\n",
       "    }\n",
       "\n",
       "    .dataframe thead th {\n",
       "        text-align: right;\n",
       "    }\n",
       "</style>\n",
       "<table border=\"1\" class=\"dataframe\">\n",
       "  <thead>\n",
       "    <tr style=\"text-align: right;\">\n",
       "      <th></th>\n",
       "      <th>SepalLength</th>\n",
       "      <th>SepalWidth</th>\n",
       "      <th>PetalLength</th>\n",
       "      <th>PetalWidth</th>\n",
       "    </tr>\n",
       "  </thead>\n",
       "  <tbody>\n",
       "    <tr>\n",
       "      <th>0</th>\n",
       "      <td>6.4</td>\n",
       "      <td>2.8</td>\n",
       "      <td>5.6</td>\n",
       "      <td>2.2</td>\n",
       "    </tr>\n",
       "    <tr>\n",
       "      <th>1</th>\n",
       "      <td>5.0</td>\n",
       "      <td>2.3</td>\n",
       "      <td>3.3</td>\n",
       "      <td>1.0</td>\n",
       "    </tr>\n",
       "    <tr>\n",
       "      <th>2</th>\n",
       "      <td>4.9</td>\n",
       "      <td>2.5</td>\n",
       "      <td>4.5</td>\n",
       "      <td>1.7</td>\n",
       "    </tr>\n",
       "    <tr>\n",
       "      <th>3</th>\n",
       "      <td>4.9</td>\n",
       "      <td>3.1</td>\n",
       "      <td>1.5</td>\n",
       "      <td>0.1</td>\n",
       "    </tr>\n",
       "    <tr>\n",
       "      <th>4</th>\n",
       "      <td>5.7</td>\n",
       "      <td>3.8</td>\n",
       "      <td>1.7</td>\n",
       "      <td>0.3</td>\n",
       "    </tr>\n",
       "  </tbody>\n",
       "</table>\n",
       "</div>"
      ],
      "text/plain": [
       "   SepalLength  SepalWidth  PetalLength  PetalWidth\n",
       "0          6.4         2.8          5.6         2.2\n",
       "1          5.0         2.3          3.3         1.0\n",
       "2          4.9         2.5          4.5         1.7\n",
       "3          4.9         3.1          1.5         0.1\n",
       "4          5.7         3.8          1.7         0.3"
      ]
     },
     "execution_count": 9,
     "metadata": {},
     "output_type": "execute_result"
    }
   ],
   "source": [
    "train_y = train.pop('Species')\n",
    "test_y = test.pop('Species')\n",
    "train.head()"
   ]
  },
  {
   "cell_type": "code",
   "execution_count": 10,
   "id": "ae9f7c9d-18c1-4778-8ca1-82902ee23b71",
   "metadata": {},
   "outputs": [
    {
     "data": {
      "text/plain": [
       "(120, 4)"
      ]
     },
     "execution_count": 10,
     "metadata": {},
     "output_type": "execute_result"
    }
   ],
   "source": [
    "train.shape"
   ]
  },
  {
   "cell_type": "markdown",
   "id": "22bf61cf-3e4c-4351-9a0e-36998b69cda8",
   "metadata": {},
   "source": [
    "## Input Function"
   ]
  },
  {
   "cell_type": "code",
   "execution_count": 12,
   "id": "ff1a638e-5224-4be3-807b-4aee1d424f92",
   "metadata": {},
   "outputs": [],
   "source": [
    "def input_fn(features, labels, training=True, batch_size=256):\n",
    "    dataset = tf.data.Dataset.from_tensor_slices((dict(features), (labels)))\n",
    "    \n",
    "    if training:\n",
    "        dataset = dataset.shuffle(1000).repeat()\n",
    "    return dataset.batch(batch_size)"
   ]
  },
  {
   "cell_type": "markdown",
   "id": "a3ee1841-2fac-4d3c-9f25-e62e707f6c7e",
   "metadata": {},
   "source": [
    "## Feature Columns"
   ]
  },
  {
   "cell_type": "code",
   "execution_count": 13,
   "id": "6a91b95f-793b-47b6-be85-4f32f9cfec70",
   "metadata": {},
   "outputs": [],
   "source": [
    "my_feature_columns = []\n",
    "for key in train.keys():\n",
    "    my_feature_columns.append(tf.feature_column.numeric_column(key=key))"
   ]
  },
  {
   "cell_type": "markdown",
   "id": "57c7561a-ccb8-43a8-9395-7200f04bfe16",
   "metadata": {},
   "source": [
    "## Building the model"
   ]
  },
  {
   "cell_type": "markdown",
   "id": "2ac9ab74-92c4-41d0-9a44-1ff5e88796fe",
   "metadata": {},
   "source": [
    "- DNNClasifier\n",
    "- LinearClassifier"
   ]
  },
  {
   "cell_type": "markdown",
   "id": "30e05aee-4859-4c9f-82b1-345c3cb1ec03",
   "metadata": {},
   "source": [
    "--------DNN--------"
   ]
  },
  {
   "cell_type": "code",
   "execution_count": 15,
   "id": "22336dae-e17c-4973-a3c5-1376d3578db0",
   "metadata": {},
   "outputs": [
    {
     "name": "stdout",
     "output_type": "stream",
     "text": [
      "INFO:tensorflow:Using default config.\n",
      "WARNING:tensorflow:Using temporary folder as model directory: C:\\Users\\minma\\AppData\\Local\\Temp\\tmpsyhr5936\n",
      "INFO:tensorflow:Using config: {'_model_dir': 'C:\\\\Users\\\\minma\\\\AppData\\\\Local\\\\Temp\\\\tmpsyhr5936', '_tf_random_seed': None, '_save_summary_steps': 100, '_save_checkpoints_steps': None, '_save_checkpoints_secs': 600, '_session_config': allow_soft_placement: true\n",
      "graph_options {\n",
      "  rewrite_options {\n",
      "    meta_optimizer_iterations: ONE\n",
      "  }\n",
      "}\n",
      ", '_keep_checkpoint_max': 5, '_keep_checkpoint_every_n_hours': 10000, '_log_step_count_steps': 100, '_train_distribute': None, '_device_fn': None, '_protocol': None, '_eval_distribute': None, '_experimental_distribute': None, '_experimental_max_worker_delay_secs': None, '_session_creation_timeout_secs': 7200, '_service': None, '_cluster_spec': ClusterSpec({}), '_task_type': 'worker', '_task_id': 0, '_global_id_in_cluster': 0, '_master': '', '_evaluation_master': '', '_is_chief': True, '_num_ps_replicas': 0, '_num_worker_replicas': 1}\n"
     ]
    }
   ],
   "source": [
    "# Build a DNN with 2 hidden layes with 30 and 10 hidden nodes each\n",
    "classifier = tf.estimator.DNNClassifier( \\\n",
    "                                       feature_columns = my_feature_columns, \\\n",
    "                                       hidden_units = [30, 30],\n",
    "                                       n_classes = 3)"
   ]
  },
  {
   "cell_type": "markdown",
   "id": "eb82e796-18fd-43d9-94e7-5da0c81c2466",
   "metadata": {},
   "source": [
    "## Training the model "
   ]
  },
  {
   "cell_type": "code",
   "execution_count": 16,
   "id": "6d501978-3141-4082-886b-e2085c115dc7",
   "metadata": {},
   "outputs": [
    {
     "name": "stdout",
     "output_type": "stream",
     "text": [
      "WARNING:tensorflow:From D:\\Programs\\conda3\\lib\\site-packages\\tensorflow\\python\\training\\training_util.py:235: Variable.initialized_value (from tensorflow.python.ops.variables) is deprecated and will be removed in a future version.\n",
      "Instructions for updating:\n",
      "Use Variable.read_value. Variables in 2.X are initialized automatically both in eager and graph (inside tf.defun) contexts.\n",
      "INFO:tensorflow:Calling model_fn.\n",
      "WARNING:tensorflow:Layer dnn is casting an input tensor from dtype float64 to the layer's dtype of float32, which is new behavior in TensorFlow 2.  The layer has dtype float32 because its dtype defaults to floatx.\n",
      "\n",
      "If you intended to run this layer in float32, you can safely ignore this warning. If in doubt, this warning is likely only an issue if you are porting a TensorFlow 1.X model to TensorFlow 2.\n",
      "\n",
      "To change all layers to have dtype float64 by default, call `tf.keras.backend.set_floatx('float64')`. To change just this layer, pass dtype='float64' to the layer constructor. If you are the author of this layer, you can disable autocasting by passing autocast=False to the base Layer constructor.\n",
      "\n",
      "WARNING:tensorflow:AutoGraph could not transform <bound method _DNNModelV2.call of <tensorflow_estimator.python.estimator.canned.dnn._DNNModelV2 object at 0x000001562794BFA0>> and will run it as-is.\n",
      "Please report this to the TensorFlow team. When filing the bug, set the verbosity to 10 (on Linux, `export AUTOGRAPH_VERBOSITY=10`) and attach the full output.\n",
      "Cause: module 'gast' has no attribute 'Index'\n",
      "To silence this warning, decorate the function with @tf.autograph.experimental.do_not_convert\n",
      "WARNING: AutoGraph could not transform <bound method _DNNModelV2.call of <tensorflow_estimator.python.estimator.canned.dnn._DNNModelV2 object at 0x000001562794BFA0>> and will run it as-is.\n",
      "Please report this to the TensorFlow team. When filing the bug, set the verbosity to 10 (on Linux, `export AUTOGRAPH_VERBOSITY=10`) and attach the full output.\n",
      "Cause: module 'gast' has no attribute 'Index'\n",
      "To silence this warning, decorate the function with @tf.autograph.experimental.do_not_convert\n",
      "WARNING:tensorflow:From D:\\Programs\\conda3\\lib\\site-packages\\tensorflow\\python\\keras\\optimizer_v2\\adagrad.py:82: calling Constant.__init__ (from tensorflow.python.ops.init_ops) with dtype is deprecated and will be removed in a future version.\n",
      "Instructions for updating:\n",
      "Call initializer instance with the dtype argument instead of passing it to the constructor\n",
      "INFO:tensorflow:Done calling model_fn.\n",
      "INFO:tensorflow:Create CheckpointSaverHook.\n",
      "INFO:tensorflow:Graph was finalized.\n",
      "INFO:tensorflow:Running local_init_op.\n",
      "INFO:tensorflow:Done running local_init_op.\n",
      "INFO:tensorflow:Calling checkpoint listeners before saving checkpoint 0...\n",
      "INFO:tensorflow:Saving checkpoints for 0 into C:\\Users\\minma\\AppData\\Local\\Temp\\tmpsyhr5936\\model.ckpt.\n",
      "INFO:tensorflow:Calling checkpoint listeners after saving checkpoint 0...\n",
      "INFO:tensorflow:loss = 1.5820804, step = 0\n",
      "INFO:tensorflow:global_step/sec: 208.71\n",
      "INFO:tensorflow:loss = 0.94660664, step = 100 (0.482 sec)\n",
      "INFO:tensorflow:global_step/sec: 287.954\n",
      "INFO:tensorflow:loss = 0.8511368, step = 200 (0.346 sec)\n",
      "INFO:tensorflow:global_step/sec: 284.074\n",
      "INFO:tensorflow:loss = 0.7938881, step = 300 (0.352 sec)\n",
      "INFO:tensorflow:global_step/sec: 291.556\n",
      "INFO:tensorflow:loss = 0.74742985, step = 400 (0.345 sec)\n",
      "INFO:tensorflow:global_step/sec: 277.775\n",
      "INFO:tensorflow:loss = 0.7147382, step = 500 (0.357 sec)\n",
      "INFO:tensorflow:global_step/sec: 249.385\n",
      "INFO:tensorflow:loss = 0.6862346, step = 600 (0.404 sec)\n",
      "INFO:tensorflow:global_step/sec: 285.713\n",
      "INFO:tensorflow:loss = 0.65620255, step = 700 (0.350 sec)\n",
      "INFO:tensorflow:global_step/sec: 234.741\n",
      "INFO:tensorflow:loss = 0.6522671, step = 800 (0.424 sec)\n",
      "INFO:tensorflow:global_step/sec: 217.853\n",
      "INFO:tensorflow:loss = 0.61528397, step = 900 (0.459 sec)\n",
      "INFO:tensorflow:global_step/sec: 257.087\n",
      "INFO:tensorflow:loss = 0.5832407, step = 1000 (0.389 sec)\n",
      "INFO:tensorflow:global_step/sec: 290.699\n",
      "INFO:tensorflow:loss = 0.5939495, step = 1100 (0.343 sec)\n",
      "INFO:tensorflow:global_step/sec: 238.095\n",
      "INFO:tensorflow:loss = 0.56042165, step = 1200 (0.427 sec)\n",
      "INFO:tensorflow:global_step/sec: 239.808\n",
      "INFO:tensorflow:loss = 0.55500567, step = 1300 (0.414 sec)\n",
      "INFO:tensorflow:global_step/sec: 263.155\n",
      "INFO:tensorflow:loss = 0.5314522, step = 1400 (0.381 sec)\n",
      "INFO:tensorflow:global_step/sec: 211.866\n",
      "INFO:tensorflow:loss = 0.51365113, step = 1500 (0.471 sec)\n",
      "INFO:tensorflow:global_step/sec: 204.5\n",
      "INFO:tensorflow:loss = 0.48919368, step = 1600 (0.489 sec)\n",
      "INFO:tensorflow:global_step/sec: 277.008\n",
      "INFO:tensorflow:loss = 0.48349476, step = 1700 (0.358 sec)\n",
      "INFO:tensorflow:global_step/sec: 287.345\n",
      "INFO:tensorflow:loss = 0.47691345, step = 1800 (0.348 sec)\n",
      "INFO:tensorflow:global_step/sec: 284.044\n",
      "INFO:tensorflow:loss = 0.45697522, step = 1900 (0.354 sec)\n",
      "INFO:tensorflow:global_step/sec: 287.64\n",
      "INFO:tensorflow:loss = 0.46183908, step = 2000 (0.348 sec)\n",
      "INFO:tensorflow:global_step/sec: 274.726\n",
      "INFO:tensorflow:loss = 0.44758105, step = 2100 (0.363 sec)\n",
      "INFO:tensorflow:global_step/sec: 289.357\n",
      "INFO:tensorflow:loss = 0.4361689, step = 2200 (0.345 sec)\n",
      "INFO:tensorflow:global_step/sec: 293.593\n",
      "INFO:tensorflow:loss = 0.4341178, step = 2300 (0.340 sec)\n",
      "INFO:tensorflow:global_step/sec: 265.999\n",
      "INFO:tensorflow:loss = 0.42251816, step = 2400 (0.378 sec)\n",
      "INFO:tensorflow:global_step/sec: 277.779\n",
      "INFO:tensorflow:loss = 0.41629022, step = 2500 (0.357 sec)\n",
      "INFO:tensorflow:global_step/sec: 246.914\n",
      "INFO:tensorflow:loss = 0.4138261, step = 2600 (0.409 sec)\n",
      "INFO:tensorflow:global_step/sec: 227.787\n",
      "INFO:tensorflow:loss = 0.3964942, step = 2700 (0.436 sec)\n",
      "INFO:tensorflow:global_step/sec: 229.36\n",
      "INFO:tensorflow:loss = 0.3918215, step = 2800 (0.435 sec)\n",
      "INFO:tensorflow:global_step/sec: 240.386\n",
      "INFO:tensorflow:loss = 0.38888925, step = 2900 (0.420 sec)\n",
      "INFO:tensorflow:global_step/sec: 251.256\n",
      "INFO:tensorflow:loss = 0.37592345, step = 3000 (0.399 sec)\n",
      "INFO:tensorflow:global_step/sec: 258.396\n",
      "INFO:tensorflow:loss = 0.36885262, step = 3100 (0.384 sec)\n",
      "INFO:tensorflow:global_step/sec: 235.839\n",
      "INFO:tensorflow:loss = 0.3696317, step = 3200 (0.425 sec)\n",
      "INFO:tensorflow:global_step/sec: 230.419\n",
      "INFO:tensorflow:loss = 0.35880065, step = 3300 (0.435 sec)\n",
      "INFO:tensorflow:global_step/sec: 225.23\n",
      "INFO:tensorflow:loss = 0.36433044, step = 3400 (0.442 sec)\n",
      "INFO:tensorflow:global_step/sec: 230.416\n",
      "INFO:tensorflow:loss = 0.3417809, step = 3500 (0.437 sec)\n",
      "INFO:tensorflow:global_step/sec: 222.717\n",
      "INFO:tensorflow:loss = 0.34939295, step = 3600 (0.448 sec)\n",
      "INFO:tensorflow:global_step/sec: 220.747\n",
      "INFO:tensorflow:loss = 0.33448082, step = 3700 (0.450 sec)\n",
      "INFO:tensorflow:global_step/sec: 233.638\n",
      "INFO:tensorflow:loss = 0.33990833, step = 3800 (0.429 sec)\n",
      "INFO:tensorflow:global_step/sec: 255.766\n",
      "INFO:tensorflow:loss = 0.3308778, step = 3900 (0.389 sec)\n",
      "INFO:tensorflow:global_step/sec: 284.155\n",
      "INFO:tensorflow:loss = 0.3308606, step = 4000 (0.355 sec)\n",
      "INFO:tensorflow:global_step/sec: 289.867\n",
      "INFO:tensorflow:loss = 0.3164773, step = 4100 (0.345 sec)\n",
      "INFO:tensorflow:global_step/sec: 281.69\n",
      "INFO:tensorflow:loss = 0.31405592, step = 4200 (0.352 sec)\n",
      "INFO:tensorflow:global_step/sec: 286.18\n",
      "INFO:tensorflow:loss = 0.28481776, step = 4300 (0.349 sec)\n",
      "INFO:tensorflow:global_step/sec: 284.89\n",
      "INFO:tensorflow:loss = 0.30145222, step = 4400 (0.352 sec)\n",
      "INFO:tensorflow:global_step/sec: 288.186\n",
      "INFO:tensorflow:loss = 0.30600074, step = 4500 (0.347 sec)\n",
      "INFO:tensorflow:global_step/sec: 286.715\n",
      "INFO:tensorflow:loss = 0.29191855, step = 4600 (0.349 sec)\n",
      "INFO:tensorflow:global_step/sec: 282.614\n",
      "INFO:tensorflow:loss = 0.29739457, step = 4700 (0.356 sec)\n",
      "INFO:tensorflow:global_step/sec: 281.051\n",
      "INFO:tensorflow:loss = 0.28572923, step = 4800 (0.353 sec)\n",
      "INFO:tensorflow:global_step/sec: 234.761\n",
      "INFO:tensorflow:loss = 0.2784417, step = 4900 (0.429 sec)\n",
      "INFO:tensorflow:Calling checkpoint listeners before saving checkpoint 5000...\n",
      "INFO:tensorflow:Saving checkpoints for 5000 into C:\\Users\\minma\\AppData\\Local\\Temp\\tmpsyhr5936\\model.ckpt.\n",
      "INFO:tensorflow:Calling checkpoint listeners after saving checkpoint 5000...\n",
      "INFO:tensorflow:Loss for final step: 0.28433108.\n"
     ]
    },
    {
     "data": {
      "text/plain": [
       "<tensorflow_estimator.python.estimator.canned.dnn.DNNClassifierV2 at 0x15630c4b100>"
      ]
     },
     "execution_count": 16,
     "metadata": {},
     "output_type": "execute_result"
    }
   ],
   "source": [
    "classifier.train( \\\n",
    "                input_fn = lambda: input_fn(train, train_y, training=True),\n",
    "                steps = 5000)"
   ]
  },
  {
   "cell_type": "markdown",
   "id": "d618dfb7-e70a-4cdd-ae26-c4c8b282e97f",
   "metadata": {},
   "source": [
    "## Evaluation"
   ]
  },
  {
   "cell_type": "code",
   "execution_count": 20,
   "id": "c3fdca62-e1e5-4c60-bb64-ad2e35658308",
   "metadata": {},
   "outputs": [
    {
     "name": "stdout",
     "output_type": "stream",
     "text": [
      "INFO:tensorflow:Calling model_fn.\n",
      "WARNING:tensorflow:Layer dnn is casting an input tensor from dtype float64 to the layer's dtype of float32, which is new behavior in TensorFlow 2.  The layer has dtype float32 because its dtype defaults to floatx.\n",
      "\n",
      "If you intended to run this layer in float32, you can safely ignore this warning. If in doubt, this warning is likely only an issue if you are porting a TensorFlow 1.X model to TensorFlow 2.\n",
      "\n",
      "To change all layers to have dtype float64 by default, call `tf.keras.backend.set_floatx('float64')`. To change just this layer, pass dtype='float64' to the layer constructor. If you are the author of this layer, you can disable autocasting by passing autocast=False to the base Layer constructor.\n",
      "\n",
      "INFO:tensorflow:Done calling model_fn.\n",
      "INFO:tensorflow:Starting evaluation at 2021-07-23T20:50:15Z\n",
      "INFO:tensorflow:Graph was finalized.\n",
      "INFO:tensorflow:Restoring parameters from C:\\Users\\minma\\AppData\\Local\\Temp\\tmpsyhr5936\\model.ckpt-5000\n",
      "INFO:tensorflow:Running local_init_op.\n",
      "INFO:tensorflow:Done running local_init_op.\n",
      "INFO:tensorflow:Inference Time : 0.48100s\n",
      "INFO:tensorflow:Finished evaluation at 2021-07-23-20:50:16\n",
      "INFO:tensorflow:Saving dict for global step 5000: accuracy = 0.96666664, average_loss = 0.32313627, global_step = 5000, loss = 0.32313627\n",
      "INFO:tensorflow:Saving 'checkpoint_path' summary for global step 5000: C:\\Users\\minma\\AppData\\Local\\Temp\\tmpsyhr5936\\model.ckpt-5000\n",
      "\n",
      "Test set accuracy: 0.967\n",
      "\n"
     ]
    }
   ],
   "source": [
    "eval_result = classifier.evaluate(input_fn = lambda: input_fn(test, test_y, training=False))\n",
    "print(\"\\nTest set accuracy: {accuracy:0.3f}\\n\".format(**eval_result))"
   ]
  },
  {
   "cell_type": "markdown",
   "id": "3cdb1126-946a-4f1d-94c3-ce4fb884d47b",
   "metadata": {},
   "source": [
    "## Predicting one value"
   ]
  },
  {
   "cell_type": "code",
   "execution_count": 25,
   "id": "9bac886a-7de0-4517-92d5-dc46c6b64709",
   "metadata": {},
   "outputs": [
    {
     "name": "stdout",
     "output_type": "stream",
     "text": [
      "Please type numeric values as prompted.\n"
     ]
    },
    {
     "name": "stdin",
     "output_type": "stream",
     "text": [
      "SepalLength:  2.4\n",
      "SepalWidth:  2.6\n",
      "PetalLength:  6.5\n",
      "PetalWidth:  6.3\n"
     ]
    },
    {
     "name": "stdout",
     "output_type": "stream",
     "text": [
      "INFO:tensorflow:Calling model_fn.\n",
      "INFO:tensorflow:Done calling model_fn.\n",
      "INFO:tensorflow:Graph was finalized.\n",
      "INFO:tensorflow:Restoring parameters from C:\\Users\\minma\\AppData\\Local\\Temp\\tmpsyhr5936\\model.ckpt-5000\n",
      "INFO:tensorflow:Running local_init_op.\n",
      "INFO:tensorflow:Done running local_init_op.\n",
      "Prediction is \"Virginica\" (99.6%)\n"
     ]
    }
   ],
   "source": [
    "def input_fn(features, batch_size=256):\n",
    "    return tf.data.Dataset.from_tensor_slices(dict(features)).batch(batch_size)\n",
    "\n",
    "features = ['SepalLength', 'SepalWidth', 'PetalLength', 'PetalWidth']\n",
    "predict = {}\n",
    "\n",
    "print(\"Please type numeric values as prompted.\")\n",
    "for feature in features:\n",
    "    valid = True\n",
    "    while valid:\n",
    "        val = input(feature + \": \")\n",
    "        if not val.isdigit(): valid = False\n",
    "    \n",
    "    predict[feature] = [float(val)]\n",
    "    \n",
    "predictions = classifier.predict(input_fn = lambda: input_fn(predict))\n",
    "for pred_dict in predictions:\n",
    "    class_id = pred_dict['class_ids'][0]\n",
    "    probability = pred_dict['probabilities'][class_id]\n",
    "    \n",
    "    print('Prediction is \"{}\" ({:.1f}%)'.format( \\\n",
    "                                               SPECIES[class_id], 100 * probability))"
   ]
  },
  {
   "cell_type": "code",
   "execution_count": null,
   "id": "1528a552-3d13-41a1-bb26-e15f464b25ae",
   "metadata": {},
   "outputs": [],
   "source": []
  }
 ],
 "metadata": {
  "kernelspec": {
   "display_name": "Python 3",
   "language": "python",
   "name": "python3"
  },
  "language_info": {
   "codemirror_mode": {
    "name": "ipython",
    "version": 3
   },
   "file_extension": ".py",
   "mimetype": "text/x-python",
   "name": "python",
   "nbconvert_exporter": "python",
   "pygments_lexer": "ipython3",
   "version": "3.8.8"
  }
 },
 "nbformat": 4,
 "nbformat_minor": 5
}
