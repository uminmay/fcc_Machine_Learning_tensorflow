{
 "cells": [
  {
   "cell_type": "markdown",
   "id": "3e1a8863-2edf-4ceb-a35c-44323694e82d",
   "metadata": {},
   "source": [
    "# Neural Networks"
   ]
  },
  {
   "cell_type": "markdown",
   "id": "f24792f5-4bc6-44ba-9a41-cf09e046176d",
   "metadata": {},
   "source": [
    "Neural networks, also known as artificial neural networks (ANNs) or simulated neural networks (SNNs), are a subset of machine learning and are at the heart of deep learning algorithms. Their name and structure are inspired by the human brain, mimicking the way that biological neurons signal to one another."
   ]
  },
  {
   "cell_type": "markdown",
   "id": "b4342b5d-cbdc-4398-bfd4-35b8b3079fa4",
   "metadata": {},
   "source": [
    "Made Up of Layers"
   ]
  },
  {
   "cell_type": "markdown",
   "id": "c1e3fa7e-79cd-4221-8891-8f61fef20103",
   "metadata": {},
   "source": [
    "- Input Layer (Accepts Raw data)\n",
    "    * Example for a 28 by 28 image we need 28x28=784 pixel input\n",
    "- Number of input/s -> Number of neuron/s in input layer\n",
    "- Hidden layers -> <- interconnected neurons with weights <- Trainable Parameters ->\n",
    "    * biases <-> densly connected, doesn't take any input. Generally weight = 1. <-they donot interconnect-><-trainable->\n",
    "- Output layer -> Classification -> Number of Classes -> one value -> [0, 1] -> probability || Number of classes\n",
    "    * Or prediction"
   ]
  },
  {
   "cell_type": "markdown",
   "id": "211778c4-1be9-4103-ba1d-336fd41f4166",
   "metadata": {},
   "source": [
    "$$\\sum_{i=0}^{n}w_i*x_i + b$$"
   ]
  },
  {
   "cell_type": "markdown",
   "id": "701a1914-cc17-42b0-b237-9190d32da13a",
   "metadata": {},
   "source": [
    "- Activation functions -> output or somewhere mid -> some float -> [0,1]\n",
    "    * sigmod [0,1]\n",
    "    * tanh   [-1, 1]\n",
    "    * ReLU - Rectified Linear Units"
   ]
  },
  {
   "cell_type": "markdown",
   "id": "3fbf312f-3f5f-4c05-8431-a8c6982ab2aa",
   "metadata": {},
   "source": [
    "$$N_1 = F(\\sum_{i=0}^{n}w_i * x_i + b)$$"
   ]
  },
  {
   "cell_type": "markdown",
   "id": "15f2fa1d-c991-4ddb-b9d3-82a8f2eae790",
   "metadata": {},
   "source": [
    "$$sigmoid(N_1) = sigmoid(F(\\sum_{i=0}^{n}w_i * x_i + b))$$"
   ]
  },
  {
   "cell_type": "markdown",
   "id": "51e73382-81a8-452a-9046-7231aa687715",
   "metadata": {},
   "source": [
    "- Loss Functions -> how far away was our value from original <- Cost Funtions->\n",
    "    * tweaking the weights <-> feedback rerun\n",
    "    * Mean Squared Error\n",
    "    * Mean Absolute Error\n",
    "    * Hinge Loss "
   ]
  },
  {
   "cell_type": "markdown",
   "id": "5f4225ba-c781-44af-abd2-ffd154227045",
   "metadata": {},
   "source": [
    "#### Mean Absolute Error"
   ]
  },
  {
   "cell_type": "markdown",
   "id": "752e1047-568f-4267-a9c8-106a9fc5393e",
   "metadata": {},
   "source": [
    "$$mae = \\sum_{i=1}^{n}abs(y - \\lambda(x_i)/n$$"
   ]
  },
  {
   "cell_type": "markdown",
   "id": "a9b0185b-252b-442f-b709-b4870264b949",
   "metadata": {},
   "source": [
    "#### Mean Squared Error"
   ]
  },
  {
   "cell_type": "markdown",
   "id": "3e73ed14-6467-42a4-8c22-4185a8e3a4b4",
   "metadata": {},
   "source": [
    "$$ MSE = (1/n) * \\sum_{i=1}^{n} (Y_i - y_i)^2 $$"
   ]
  },
  {
   "cell_type": "markdown",
   "id": "aedd1f90-bc11-4625-9ffe-c58076475c67",
   "metadata": {},
   "source": [
    "#### Optimizers - Backpropagation and update weights, reduce loss"
   ]
  },
  {
   "cell_type": "markdown",
   "id": "f8ec1c48-ebb4-44e2-9a09-17020365ce2f",
   "metadata": {},
   "source": [
    "- Gradient Descent\n",
    "- Stochastic gradient descent\n",
    "- Mini-Batch Gradient descent\n",
    "- Momentum\n",
    "- Nesterov Accelarated Gradient"
   ]
  },
  {
   "cell_type": "markdown",
   "id": "d02e97f1-b11f-42d9-a7ae-2d84abb4e75b",
   "metadata": {},
   "source": [
    "## Creating the model"
   ]
  },
  {
   "cell_type": "code",
   "execution_count": 1,
   "id": "a88e7be5-d36f-47de-a7cd-241780f0660c",
   "metadata": {},
   "outputs": [],
   "source": [
    "import tensorflow as tf\n",
    "from tensorflow import keras\n",
    "\n",
    "import numpy as np\n",
    "import matplotlib.pyplot as plt"
   ]
  },
  {
   "cell_type": "markdown",
   "id": "60ea4025-6f2a-49cd-98a0-f98be9fdd5aa",
   "metadata": {},
   "source": [
    "### Dataset - MNIST Fashion"
   ]
  },
  {
   "cell_type": "markdown",
   "id": "8755ce2f-fea3-499f-a516-89faecae32dd",
   "metadata": {},
   "source": [
    "60,000 images for training and 10,000 for validation/testing"
   ]
  },
  {
   "cell_type": "code",
   "execution_count": 2,
   "id": "a7776869-738b-4dc1-9808-55f593230d9b",
   "metadata": {},
   "outputs": [],
   "source": [
    "fashion_mnist = keras.datasets.fashion_mnist\n",
    "\n",
    "(train_images, train_labels), (test_images, test_labels) = fashion_mnist.load_data() # split"
   ]
  },
  {
   "cell_type": "code",
   "execution_count": 3,
   "id": "336b738b-4a06-4eab-80ef-f482738bf50a",
   "metadata": {},
   "outputs": [
    {
     "data": {
      "text/plain": [
       "(60000, 28, 28)"
      ]
     },
     "execution_count": 3,
     "metadata": {},
     "output_type": "execute_result"
    }
   ],
   "source": [
    "train_images.shape"
   ]
  },
  {
   "cell_type": "code",
   "execution_count": 4,
   "id": "0f3c8fbc-aac0-4616-b963-69645e74752d",
   "metadata": {},
   "outputs": [
    {
     "data": {
      "text/plain": [
       "194"
      ]
     },
     "execution_count": 4,
     "metadata": {},
     "output_type": "execute_result"
    }
   ],
   "source": [
    "train_images[0,23,23]"
   ]
  },
  {
   "cell_type": "code",
   "execution_count": 5,
   "id": "5ce94fe9-0475-49f2-bf3b-37a129ec9ae8",
   "metadata": {},
   "outputs": [
    {
     "data": {
      "text/plain": [
       "numpy.ndarray"
      ]
     },
     "execution_count": 5,
     "metadata": {},
     "output_type": "execute_result"
    }
   ],
   "source": [
    "type(train_images)"
   ]
  },
  {
   "cell_type": "code",
   "execution_count": 6,
   "id": "97777f6e-4c8b-4e94-b1a4-6dd05c808d81",
   "metadata": {},
   "outputs": [
    {
     "data": {
      "text/plain": [
       "array([9, 0, 0, 3, 0, 2, 7, 2, 5, 5], dtype=uint8)"
      ]
     },
     "execution_count": 6,
     "metadata": {},
     "output_type": "execute_result"
    }
   ],
   "source": [
    "train_labels[:10]"
   ]
  },
  {
   "cell_type": "markdown",
   "id": "573d1dea-8418-4120-8cb4-fb71b373aec1",
   "metadata": {},
   "source": [
    "pixel 0-255\n",
    "- 0 black\n",
    "- 255 white"
   ]
  },
  {
   "cell_type": "code",
   "execution_count": 7,
   "id": "f5da28c0-cc0b-4946-b36f-724cb29e2fc7",
   "metadata": {},
   "outputs": [],
   "source": [
    "class_names = ['T-shirt/top', 'Trouser', 'Pullover', 'Dress', 'Coat', \\\n",
    "              'Sandal', 'Shirt', 'Sneaker', 'Bag', 'Ankle Boot']"
   ]
  },
  {
   "cell_type": "code",
   "execution_count": 8,
   "id": "69c2506c-7da2-4565-ab42-c0ea65a947cd",
   "metadata": {},
   "outputs": [
    {
     "data": {
      "image/png": "[encoded data removed]",
      "text/plain": [
       "<Figure size 432x288 with 2 Axes>"
      ]
     },
     "metadata": {
      "needs_background": "light"
     },
     "output_type": "display_data"
    }
   ],
   "source": [
    "plt.figure()\n",
    "plt.imshow(train_images[1])\n",
    "plt.colorbar()\n",
    "plt.grid(False)\n",
    "plt.show()"
   ]
  },
  {
   "cell_type": "code",
   "execution_count": 9,
   "id": "b255d257-fa5d-4a06-bce8-933c76d9471a",
   "metadata": {},
   "outputs": [
    {
     "data": {
      "image/png": "[encoded data removed]",
      "text/plain": [
       "<Figure size 432x288 with 2 Axes>"
      ]
     },
     "metadata": {
      "needs_background": "light"
     },
     "output_type": "display_data"
    }
   ],
   "source": [
    "plt.figure()\n",
    "plt.imshow(train_images[2])\n",
    "plt.colorbar()\n",
    "plt.grid(False)\n",
    "plt.show()"
   ]
  },
  {
   "cell_type": "code",
   "execution_count": 10,
   "id": "912a911e-0ba3-4554-8249-2ad9be68ec99",
   "metadata": {},
   "outputs": [
    {
     "data": {
      "image/png": "[encoded data removed]",
      "text/plain": [
       "<Figure size 432x288 with 2 Axes>"
      ]
     },
     "metadata": {
      "needs_background": "light"
     },
     "output_type": "display_data"
    }
   ],
   "source": [
    "plt.figure()\n",
    "plt.imshow(train_images[4])\n",
    "plt.colorbar()\n",
    "plt.grid(False)\n",
    "plt.show()"
   ]
  },
  {
   "cell_type": "markdown",
   "id": "86bccb7c-2d81-4da3-ada5-6e975614126e",
   "metadata": {},
   "source": [
    "### Data Preprocessing"
   ]
  },
  {
   "cell_type": "code",
   "execution_count": 11,
   "id": "a71024db-9471-4386-884f-4a717006057e",
   "metadata": {},
   "outputs": [],
   "source": [
    "train_images = train_images / 255.0\n",
    "test_images = test_images / 255.0"
   ]
  },
  {
   "cell_type": "markdown",
   "id": "a18b85e7-d0ca-4f8c-860c-23b953890c2e",
   "metadata": {},
   "source": [
    "### Building the model"
   ]
  },
  {
   "cell_type": "code",
   "execution_count": 12,
   "id": "5468ac69-65c9-4a18-90c5-d3fa00f6e861",
   "metadata": {},
   "outputs": [],
   "source": [
    "model = keras.Sequential([ \\\n",
    "                         keras.layers.Flatten(input_shape=(28, 28)), \\\n",
    "                         keras.layers.Dense(128, activation='relu'), \\\n",
    "                         keras.layers.Dense(10, activation='softmax') \\\n",
    "                         ])"
   ]
  },
  {
   "cell_type": "markdown",
   "id": "a317d6cc-60b0-405d-898a-537793978231",
   "metadata": {},
   "source": [
    "### Compiling the model"
   ]
  },
  {
   "cell_type": "code",
   "execution_count": 13,
   "id": "5842d73a-5eea-4226-8cb6-bc307bffea7f",
   "metadata": {},
   "outputs": [],
   "source": [
    "model.compile(optimizer = 'adam', \\\n",
    "             loss = 'sparse_categorical_crossentropy', \\\n",
    "             metrics=['accuracy'])"
   ]
  },
  {
   "cell_type": "markdown",
   "id": "fc759ca1-efa8-4f56-a1c5-b35432fe3720",
   "metadata": {},
   "source": [
    "### Training the Model"
   ]
  },
  {
   "cell_type": "code",
   "execution_count": 14,
   "id": "a9cc90cc-e531-4f45-b83f-03c7b16671fc",
   "metadata": {},
   "outputs": [
    {
     "name": "stdout",
     "output_type": "stream",
     "text": [
      "Epoch 1/10\n",
      "1875/1875 [==============================] - 5s 2ms/step - loss: 0.5009 - accuracy: 0.8265\n",
      "Epoch 2/10\n",
      "1875/1875 [==============================] - 4s 2ms/step - loss: 0.3782 - accuracy: 0.8635\n",
      "Epoch 3/10\n",
      "1875/1875 [==============================] - 4s 2ms/step - loss: 0.3388 - accuracy: 0.8761\n",
      "Epoch 4/10\n",
      "1875/1875 [==============================] - 4s 2ms/step - loss: 0.3137 - accuracy: 0.8845\n",
      "Epoch 5/10\n",
      "1875/1875 [==============================] - 5s 3ms/step - loss: 0.2975 - accuracy: 0.8899: 0s - loss: 0.2975 - accu\n",
      "Epoch 6/10\n",
      "1875/1875 [==============================] - 5s 2ms/step - loss: 0.2802 - accuracy: 0.8965\n",
      "Epoch 7/10\n",
      "1875/1875 [==============================] - 4s 2ms/step - loss: 0.2683 - accuracy: 0.9007: 0s - l\n",
      "Epoch 8/10\n",
      "1875/1875 [==============================] - 5s 2ms/step - loss: 0.2589 - accuracy: 0.9039\n",
      "Epoch 9/10\n",
      "1875/1875 [==============================] - 5s 2ms/step - loss: 0.2487 - accuracy: 0.9076\n",
      "Epoch 10/10\n",
      "1875/1875 [==============================] - 5s 2ms/step - loss: 0.2402 - accuracy: 0.9112\n"
     ]
    },
    {
     "data": {
      "text/plain": [
       "<tensorflow.python.keras.callbacks.History at 0x20737eae8b0>"
      ]
     },
     "execution_count": 14,
     "metadata": {},
     "output_type": "execute_result"
    }
   ],
   "source": [
    "model.fit(train_images, train_labels, epochs=10)"
   ]
  },
  {
   "cell_type": "code",
   "execution_count": 15,
   "id": "b2bbb0d7-2641-4c09-8780-dfeb34ab8402",
   "metadata": {},
   "outputs": [
    {
     "name": "stdout",
     "output_type": "stream",
     "text": [
      "313/313 [==============================] - 1s 2ms/step - loss: 0.3374 - accuracy: 0.8849\n",
      "Test Accuracy:  0.8848999738693237\n"
     ]
    }
   ],
   "source": [
    "test_loss, test_acc = model.evaluate(test_images, test_labels, verbose=1)\n",
    "print('Test Accuracy: ', test_acc)"
   ]
  },
  {
   "cell_type": "markdown",
   "id": "245df141-87a6-427c-95fc-7464f40a643b",
   "metadata": {},
   "source": [
    "<<<___LITTLE__OVERFITTING___>>>"
   ]
  },
  {
   "cell_type": "markdown",
   "id": "b6f1221b-99bf-4d79-8e66-16623b9f5bc7",
   "metadata": {},
   "source": [
    "#### Train with less epochs"
   ]
  },
  {
   "cell_type": "code",
   "execution_count": 16,
   "id": "0236f985-98e8-49f4-a35e-69a7bd355a37",
   "metadata": {},
   "outputs": [
    {
     "name": "stdout",
     "output_type": "stream",
     "text": [
      "Epoch 1/8\n",
      "1875/1875 [==============================] - 5s 3ms/step - loss: 0.2323 - accuracy: 0.9127\n",
      "Epoch 2/8\n",
      "1875/1875 [==============================] - 5s 3ms/step - loss: 0.2235 - accuracy: 0.9165\n",
      "Epoch 3/8\n",
      "1875/1875 [==============================] - 5s 3ms/step - loss: 0.2158 - accuracy: 0.9194\n",
      "Epoch 4/8\n",
      "1875/1875 [==============================] - 5s 3ms/step - loss: 0.2119 - accuracy: 0.9199\n",
      "Epoch 5/8\n",
      "1875/1875 [==============================] - 5s 3ms/step - loss: 0.2044 - accuracy: 0.9237\n",
      "Epoch 6/8\n",
      "1875/1875 [==============================] - ETA: 0s - loss: 0.1990 - accuracy: 0.92 - 5s 3ms/step - loss: 0.1990 - accuracy: 0.9259\n",
      "Epoch 7/8\n",
      "1875/1875 [==============================] - 5s 3ms/step - loss: 0.1927 - accuracy: 0.9277\n",
      "Epoch 8/8\n",
      "1875/1875 [==============================] - 5s 3ms/step - loss: 0.1883 - accuracy: 0.9297\n",
      "313/313 [==============================] - 1s 2ms/step - loss: 0.3553 - accuracy: 0.8854\n",
      "Test Accuracy:  0.8853999972343445\n"
     ]
    }
   ],
   "source": [
    "model.fit(train_images, train_labels, epochs=8)\n",
    "test_loss, test_acc = model.evaluate(test_images, test_labels, verbose=1)\n",
    "print('Test Accuracy: ', test_acc)"
   ]
  },
  {
   "cell_type": "markdown",
   "id": "a59e0b1e-06e5-4722-ac4c-0f8df48c5ce7",
   "metadata": {},
   "source": [
    "#### Train with even more less epochs"
   ]
  },
  {
   "cell_type": "code",
   "execution_count": 18,
   "id": "10e8b606-bd16-4c20-a87b-a98eef573eaf",
   "metadata": {},
   "outputs": [
    {
     "name": "stdout",
     "output_type": "stream",
     "text": [
      "Epoch 1/5\n",
      "1875/1875 [==============================] - 6s 3ms/step - loss: 0.1844 - accuracy: 0.9306\n",
      "Epoch 2/5\n",
      "1875/1875 [==============================] - 5s 3ms/step - loss: 0.1791 - accuracy: 0.9335\n",
      "Epoch 3/5\n",
      "1875/1875 [==============================] - 5s 3ms/step - loss: 0.1727 - accuracy: 0.9358\n",
      "Epoch 4/5\n",
      "1875/1875 [==============================] - 6s 3ms/step - loss: 0.1693 - accuracy: 0.9368\n",
      "Epoch 5/5\n",
      "1875/1875 [==============================] - 5s 3ms/step - loss: 0.1674 - accuracy: 0.9371\n",
      "313/313 [==============================] - 1s 2ms/step - loss: 0.3902 - accuracy: 0.8804\n",
      "Test Accuracy:  0.8804000020027161\n"
     ]
    }
   ],
   "source": [
    "model.fit(train_images, train_labels, epochs=5)\n",
    "test_loss, test_acc = model.evaluate(test_images, test_labels, verbose=1)\n",
    "print('Test Accuracy: ', test_acc)"
   ]
  },
  {
   "cell_type": "markdown",
   "id": "90ee0bde-88aa-4f1c-9d06-c9d95bd79946",
   "metadata": {},
   "source": [
    "### Predicting"
   ]
  },
  {
   "cell_type": "code",
   "execution_count": 24,
   "id": "0232a016-3f06-472d-ab9e-12d57286725f",
   "metadata": {},
   "outputs": [
    {
     "data": {
      "text/plain": [
       "(10000, 28, 28)"
      ]
     },
     "execution_count": 24,
     "metadata": {},
     "output_type": "execute_result"
    }
   ],
   "source": [
    "test_images.shape"
   ]
  },
  {
   "cell_type": "code",
   "execution_count": 19,
   "id": "80e44dc3-f397-4500-a82c-c58bc405f97c",
   "metadata": {},
   "outputs": [],
   "source": [
    "predictions = model.predict(test_images)"
   ]
  },
  {
   "cell_type": "code",
   "execution_count": 20,
   "id": "9f80a8ea-4917-40e5-830d-fa3db0f96ad8",
   "metadata": {},
   "outputs": [
    {
     "data": {
      "text/plain": [
       "array([4.0516813e-12, 1.6673416e-16, 1.0949912e-19, 1.7877695e-20,\n",
       "       3.9171064e-15, 4.2125345e-07, 6.9876369e-14, 9.0484442e-05,\n",
       "       4.3916896e-15, 9.9990904e-01], dtype=float32)"
      ]
     },
     "execution_count": 20,
     "metadata": {},
     "output_type": "execute_result"
    }
   ],
   "source": [
    "predictions[0]"
   ]
  },
  {
   "cell_type": "code",
   "execution_count": 26,
   "id": "93d1fca6-466d-49fe-a481-f9ab61b3f9f9",
   "metadata": {},
   "outputs": [
    {
     "data": {
      "image/png": "[encoded data removed]",
      "text/plain": [
       "<Figure size 432x288 with 2 Axes>"
      ]
     },
     "metadata": {
      "needs_background": "light"
     },
     "output_type": "display_data"
    },
    {
     "name": "stdout",
     "output_type": "stream",
     "text": [
      "Ankle Boot\n"
     ]
    }
   ],
   "source": [
    "plt.figure()\n",
    "plt.imshow(test_images[0])\n",
    "plt.colorbar()\n",
    "plt.grid(False)\n",
    "plt.show()\n",
    "print(class_names[np.argmax(predictions[0])])"
   ]
  },
  {
   "cell_type": "code",
   "execution_count": 27,
   "id": "1f11bb7a-a02f-41c0-bd79-c236f892d6de",
   "metadata": {},
   "outputs": [
    {
     "data": {
      "image/png": "[encoded data removed]",
      "text/plain": [
       "<Figure size 432x288 with 2 Axes>"
      ]
     },
     "metadata": {
      "needs_background": "light"
     },
     "output_type": "display_data"
    },
    {
     "name": "stdout",
     "output_type": "stream",
     "text": [
      "Trouser\n"
     ]
    }
   ],
   "source": [
    "plt.figure()\n",
    "plt.imshow(test_images[2])\n",
    "plt.colorbar()\n",
    "plt.grid(False)\n",
    "plt.show()\n",
    "print(class_names[np.argmax(predictions[2])])"
   ]
  },
  {
   "cell_type": "code",
   "execution_count": 28,
   "id": "93cab4bb-ee3f-4fc5-a496-e49cd94e7b3b",
   "metadata": {},
   "outputs": [
    {
     "data": {
      "image/png": "[encoded data removed]",
      "text/plain": [
       "<Figure size 432x288 with 2 Axes>"
      ]
     },
     "metadata": {
      "needs_background": "light"
     },
     "output_type": "display_data"
    },
    {
     "name": "stdout",
     "output_type": "stream",
     "text": [
      "Pullover\n"
     ]
    }
   ],
   "source": [
    "plt.figure()\n",
    "plt.imshow(test_images[1])\n",
    "plt.colorbar()\n",
    "plt.grid(False)\n",
    "plt.show()\n",
    "print(class_names[np.argmax(predictions[1])])"
   ]
  }
 ],
 "metadata": {
  "kernelspec": {
   "display_name": "Python 3",
   "language": "python",
   "name": "python3"
  },
  "language_info": {
   "codemirror_mode": {
    "name": "ipython",
    "version": 3
   },
   "file_extension": ".py",
   "mimetype": "text/x-python",
   "name": "python",
   "nbconvert_exporter": "python",
   "pygments_lexer": "ipython3",
   "version": "3.8.8"
  }
 },
 "nbformat": 4,
 "nbformat_minor": 5
}
